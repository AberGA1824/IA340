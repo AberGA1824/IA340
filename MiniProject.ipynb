{
 "cells": [
  {
   "cell_type": "markdown",
   "id": "4723c0aa-3061-4f62-b98d-d81ed7e82320",
   "metadata": {},
   "source": [
    "# IA340 Mini Project \n",
    "**Project Name**Passanger regional origin coming into San Fransisco by Air"
   ]
  },
  {
   "cell_type": "markdown",
   "id": "9237301e-e2d9-40de-819c-35f78c0a9fe4",
   "metadata": {},
   "source": [
    "## Data sourced from \n",
    "**Source**https://catalog.data.gov/dataset/air-traffic-passenger-statistics\n",
    "\n",
    "**Description**San Francisco International Airport Report on Monthly Passenger Traffic Statistics by Airline\n",
    "\n",
    "**Time Period**1999-2025\n",
    "\n",
    "**Reason for choice**Matches my interest in aviation \n"
   ]
  },
  {
   "cell_type": "markdown",
   "id": "862c8870-a0d5-4c19-9072-deb381d8a95f",
   "metadata": {},
   "source": [
    "## Research Question\n",
    "Question: What geographic region of the world has increased or decreased travel to the CIty of San Fransisco, and where does each region stand in the present day"
   ]
  },
  {
   "cell_type": "markdown",
   "id": "a46779e3-8a72-44ac-b9fd-227e2502833a",
   "metadata": {},
   "source": [
    "# Data Analysis"
   ]
  },
  {
   "cell_type": "code",
   "execution_count": 2,
   "id": "c1842e34-b28f-4607-81ec-904b4919e5c9",
   "metadata": {},
   "outputs": [
    {
     "data": {
      "text/html": [
       "<div>\n",
       "<style scoped>\n",
       "    .dataframe tbody tr th:only-of-type {\n",
       "        vertical-align: middle;\n",
       "    }\n",
       "\n",
       "    .dataframe tbody tr th {\n",
       "        vertical-align: top;\n",
       "    }\n",
       "\n",
       "    .dataframe thead th {\n",
       "        text-align: right;\n",
       "    }\n",
       "</style>\n",
       "<table border=\"1\" class=\"dataframe\">\n",
       "  <thead>\n",
       "    <tr style=\"text-align: right;\">\n",
       "      <th></th>\n",
       "      <th>Activity Period</th>\n",
       "      <th>Activity Period Start Date</th>\n",
       "      <th>Operating Airline</th>\n",
       "      <th>Operating Airline IATA Code</th>\n",
       "      <th>Published Airline</th>\n",
       "      <th>Published Airline IATA Code</th>\n",
       "      <th>GEO Summary</th>\n",
       "      <th>GEO Region</th>\n",
       "      <th>Activity Type Code</th>\n",
       "      <th>Price Category Code</th>\n",
       "      <th>Terminal</th>\n",
       "      <th>Boarding Area</th>\n",
       "      <th>Passenger Count</th>\n",
       "      <th>data_as_of</th>\n",
       "      <th>data_loaded_at</th>\n",
       "    </tr>\n",
       "  </thead>\n",
       "  <tbody>\n",
       "    <tr>\n",
       "      <th>0</th>\n",
       "      <td>199907</td>\n",
       "      <td>1999/07/01</td>\n",
       "      <td>ATA Airlines</td>\n",
       "      <td>TZ</td>\n",
       "      <td>ATA Airlines</td>\n",
       "      <td>TZ</td>\n",
       "      <td>Domestic</td>\n",
       "      <td>US</td>\n",
       "      <td>Deplaned</td>\n",
       "      <td>Low Fare</td>\n",
       "      <td>Terminal 1</td>\n",
       "      <td>B</td>\n",
       "      <td>31432</td>\n",
       "      <td>2025/09/20 01:01:11 PM</td>\n",
       "      <td>2025/09/22 03:10:03 PM</td>\n",
       "    </tr>\n",
       "    <tr>\n",
       "      <th>1</th>\n",
       "      <td>199907</td>\n",
       "      <td>1999/07/01</td>\n",
       "      <td>ATA Airlines</td>\n",
       "      <td>TZ</td>\n",
       "      <td>ATA Airlines</td>\n",
       "      <td>TZ</td>\n",
       "      <td>Domestic</td>\n",
       "      <td>US</td>\n",
       "      <td>Enplaned</td>\n",
       "      <td>Low Fare</td>\n",
       "      <td>Terminal 1</td>\n",
       "      <td>B</td>\n",
       "      <td>31353</td>\n",
       "      <td>2025/09/20 01:01:11 PM</td>\n",
       "      <td>2025/09/22 03:10:03 PM</td>\n",
       "    </tr>\n",
       "    <tr>\n",
       "      <th>2</th>\n",
       "      <td>199907</td>\n",
       "      <td>1999/07/01</td>\n",
       "      <td>ATA Airlines</td>\n",
       "      <td>TZ</td>\n",
       "      <td>ATA Airlines</td>\n",
       "      <td>TZ</td>\n",
       "      <td>Domestic</td>\n",
       "      <td>US</td>\n",
       "      <td>Thru / Transit</td>\n",
       "      <td>Low Fare</td>\n",
       "      <td>Terminal 1</td>\n",
       "      <td>B</td>\n",
       "      <td>2518</td>\n",
       "      <td>2025/09/20 01:01:11 PM</td>\n",
       "      <td>2025/09/22 03:10:03 PM</td>\n",
       "    </tr>\n",
       "    <tr>\n",
       "      <th>3</th>\n",
       "      <td>199907</td>\n",
       "      <td>1999/07/01</td>\n",
       "      <td>Aeroflot Russian International Airlines</td>\n",
       "      <td>NaN</td>\n",
       "      <td>Aeroflot Russian International Airlines</td>\n",
       "      <td>NaN</td>\n",
       "      <td>International</td>\n",
       "      <td>Europe</td>\n",
       "      <td>Deplaned</td>\n",
       "      <td>Other</td>\n",
       "      <td>Terminal 2</td>\n",
       "      <td>D</td>\n",
       "      <td>1324</td>\n",
       "      <td>2025/09/20 01:01:11 PM</td>\n",
       "      <td>2025/09/22 03:10:03 PM</td>\n",
       "    </tr>\n",
       "    <tr>\n",
       "      <th>4</th>\n",
       "      <td>199907</td>\n",
       "      <td>1999/07/01</td>\n",
       "      <td>Aeroflot Russian International Airlines</td>\n",
       "      <td>NaN</td>\n",
       "      <td>Aeroflot Russian International Airlines</td>\n",
       "      <td>NaN</td>\n",
       "      <td>International</td>\n",
       "      <td>Europe</td>\n",
       "      <td>Enplaned</td>\n",
       "      <td>Other</td>\n",
       "      <td>Terminal 2</td>\n",
       "      <td>D</td>\n",
       "      <td>1198</td>\n",
       "      <td>2025/09/20 01:01:11 PM</td>\n",
       "      <td>2025/09/22 03:10:03 PM</td>\n",
       "    </tr>\n",
       "  </tbody>\n",
       "</table>\n",
       "</div>"
      ],
      "text/plain": [
       "   Activity Period Activity Period Start Date  \\\n",
       "0           199907                 1999/07/01   \n",
       "1           199907                 1999/07/01   \n",
       "2           199907                 1999/07/01   \n",
       "3           199907                 1999/07/01   \n",
       "4           199907                 1999/07/01   \n",
       "\n",
       "                         Operating Airline Operating Airline IATA Code  \\\n",
       "0                             ATA Airlines                          TZ   \n",
       "1                             ATA Airlines                          TZ   \n",
       "2                             ATA Airlines                          TZ   \n",
       "3  Aeroflot Russian International Airlines                         NaN   \n",
       "4  Aeroflot Russian International Airlines                         NaN   \n",
       "\n",
       "                         Published Airline Published Airline IATA Code  \\\n",
       "0                             ATA Airlines                          TZ   \n",
       "1                             ATA Airlines                          TZ   \n",
       "2                             ATA Airlines                          TZ   \n",
       "3  Aeroflot Russian International Airlines                         NaN   \n",
       "4  Aeroflot Russian International Airlines                         NaN   \n",
       "\n",
       "     GEO Summary GEO Region Activity Type Code Price Category Code  \\\n",
       "0       Domestic         US           Deplaned            Low Fare   \n",
       "1       Domestic         US           Enplaned            Low Fare   \n",
       "2       Domestic         US     Thru / Transit            Low Fare   \n",
       "3  International     Europe           Deplaned               Other   \n",
       "4  International     Europe           Enplaned               Other   \n",
       "\n",
       "     Terminal Boarding Area  Passenger Count              data_as_of  \\\n",
       "0  Terminal 1             B            31432  2025/09/20 01:01:11 PM   \n",
       "1  Terminal 1             B            31353  2025/09/20 01:01:11 PM   \n",
       "2  Terminal 1             B             2518  2025/09/20 01:01:11 PM   \n",
       "3  Terminal 2             D             1324  2025/09/20 01:01:11 PM   \n",
       "4  Terminal 2             D             1198  2025/09/20 01:01:11 PM   \n",
       "\n",
       "           data_loaded_at  \n",
       "0  2025/09/22 03:10:03 PM  \n",
       "1  2025/09/22 03:10:03 PM  \n",
       "2  2025/09/22 03:10:03 PM  \n",
       "3  2025/09/22 03:10:03 PM  \n",
       "4  2025/09/22 03:10:03 PM  "
      ]
     },
     "execution_count": 2,
     "metadata": {},
     "output_type": "execute_result"
    }
   ],
   "source": [
    "import warnings\n",
    "warnings.simplefilter('ignore')\n",
    "\n",
    "import pandas as pd\n",
    "df = pd.read_csv('s3://ia340466879/Air_Traffic_Passenger_Statistics.csv') # load the data from s3\n",
    "df.head() #show the top 5 rows"
   ]
  },
  {
   "cell_type": "code",
   "execution_count": 3,
   "id": "0bcb310a-f99a-4dcf-a528-0248d4946303",
   "metadata": {},
   "outputs": [
    {
     "name": "stdout",
     "output_type": "stream",
     "text": [
      "<class 'pandas.core.frame.DataFrame'>\n",
      "RangeIndex: 38546 entries, 0 to 38545\n",
      "Data columns (total 15 columns):\n",
      " #   Column                       Non-Null Count  Dtype \n",
      "---  ------                       --------------  ----- \n",
      " 0   Activity Period              38546 non-null  int64 \n",
      " 1   Activity Period Start Date   38546 non-null  object\n",
      " 2   Operating Airline            38546 non-null  object\n",
      " 3   Operating Airline IATA Code  38230 non-null  object\n",
      " 4   Published Airline            38546 non-null  object\n",
      " 5   Published Airline IATA Code  38230 non-null  object\n",
      " 6   GEO Summary                  38546 non-null  object\n",
      " 7   GEO Region                   38546 non-null  object\n",
      " 8   Activity Type Code           38546 non-null  object\n",
      " 9   Price Category Code          38546 non-null  object\n",
      " 10  Terminal                     38546 non-null  object\n",
      " 11  Boarding Area                38546 non-null  object\n",
      " 12  Passenger Count              38546 non-null  int64 \n",
      " 13  data_as_of                   38546 non-null  object\n",
      " 14  data_loaded_at               38546 non-null  object\n",
      "dtypes: int64(2), object(13)\n",
      "memory usage: 4.4+ MB\n"
     ]
    }
   ],
   "source": [
    "df.info()"
   ]
  },
  {
   "cell_type": "code",
   "execution_count": 4,
   "id": "2b2856b0-cc03-482e-9a00-b5e72402a00d",
   "metadata": {},
   "outputs": [
    {
     "data": {
      "text/html": [
       "<div>\n",
       "<style scoped>\n",
       "    .dataframe tbody tr th:only-of-type {\n",
       "        vertical-align: middle;\n",
       "    }\n",
       "\n",
       "    .dataframe tbody tr th {\n",
       "        vertical-align: top;\n",
       "    }\n",
       "\n",
       "    .dataframe thead th {\n",
       "        text-align: right;\n",
       "    }\n",
       "</style>\n",
       "<table border=\"1\" class=\"dataframe\">\n",
       "  <thead>\n",
       "    <tr style=\"text-align: right;\">\n",
       "      <th></th>\n",
       "      <th>Activity Period</th>\n",
       "      <th>Passenger Count</th>\n",
       "    </tr>\n",
       "  </thead>\n",
       "  <tbody>\n",
       "    <tr>\n",
       "      <th>count</th>\n",
       "      <td>38546.000000</td>\n",
       "      <td>38546.000000</td>\n",
       "    </tr>\n",
       "    <tr>\n",
       "      <th>mean</th>\n",
       "      <td>201283.855316</td>\n",
       "      <td>27831.143024</td>\n",
       "    </tr>\n",
       "    <tr>\n",
       "      <th>std</th>\n",
       "      <td>763.768513</td>\n",
       "      <td>61960.415974</td>\n",
       "    </tr>\n",
       "    <tr>\n",
       "      <th>min</th>\n",
       "      <td>199907.000000</td>\n",
       "      <td>0.000000</td>\n",
       "    </tr>\n",
       "    <tr>\n",
       "      <th>25%</th>\n",
       "      <td>200610.000000</td>\n",
       "      <td>4359.000000</td>\n",
       "    </tr>\n",
       "    <tr>\n",
       "      <th>50%</th>\n",
       "      <td>201309.000000</td>\n",
       "      <td>8599.500000</td>\n",
       "    </tr>\n",
       "    <tr>\n",
       "      <th>75%</th>\n",
       "      <td>201908.000000</td>\n",
       "      <td>19657.000000</td>\n",
       "    </tr>\n",
       "    <tr>\n",
       "      <th>max</th>\n",
       "      <td>202507.000000</td>\n",
       "      <td>856501.000000</td>\n",
       "    </tr>\n",
       "  </tbody>\n",
       "</table>\n",
       "</div>"
      ],
      "text/plain": [
       "       Activity Period  Passenger Count\n",
       "count     38546.000000     38546.000000\n",
       "mean     201283.855316     27831.143024\n",
       "std         763.768513     61960.415974\n",
       "min      199907.000000         0.000000\n",
       "25%      200610.000000      4359.000000\n",
       "50%      201309.000000      8599.500000\n",
       "75%      201908.000000     19657.000000\n",
       "max      202507.000000    856501.000000"
      ]
     },
     "execution_count": 4,
     "metadata": {},
     "output_type": "execute_result"
    }
   ],
   "source": [
    "df.describe()"
   ]
  },
  {
   "cell_type": "code",
   "execution_count": 6,
   "id": "574f780f-b577-4cfa-a03d-ffa9ac8e10e2",
   "metadata": {},
   "outputs": [
    {
     "data": {
      "text/plain": [
       "(38546, 15)"
      ]
     },
     "execution_count": 6,
     "metadata": {},
     "output_type": "execute_result"
    }
   ],
   "source": [
    "df.shape"
   ]
  },
  {
   "cell_type": "markdown",
   "id": "52361e39-60f9-40e8-a3b0-67fe7884615c",
   "metadata": {},
   "source": [
    "# Clean data"
   ]
  },
  {
   "cell_type": "code",
   "execution_count": 7,
   "id": "ada1e27e-5697-4ae0-9a6a-948f26e648e4",
   "metadata": {},
   "outputs": [
    {
     "data": {
      "text/plain": [
       "<bound method DataFrame.sum of        Activity Period  Activity Period Start Date  Operating Airline  \\\n",
       "0                False                       False              False   \n",
       "1                False                       False              False   \n",
       "2                False                       False              False   \n",
       "3                False                       False              False   \n",
       "4                False                       False              False   \n",
       "...                ...                         ...                ...   \n",
       "38541            False                       False              False   \n",
       "38542            False                       False              False   \n",
       "38543            False                       False              False   \n",
       "38544            False                       False              False   \n",
       "38545            False                       False              False   \n",
       "\n",
       "       Operating Airline IATA Code  Published Airline  \\\n",
       "0                            False              False   \n",
       "1                            False              False   \n",
       "2                            False              False   \n",
       "3                             True              False   \n",
       "4                             True              False   \n",
       "...                            ...                ...   \n",
       "38541                        False              False   \n",
       "38542                        False              False   \n",
       "38543                        False              False   \n",
       "38544                        False              False   \n",
       "38545                        False              False   \n",
       "\n",
       "       Published Airline IATA Code  GEO Summary  GEO Region  \\\n",
       "0                            False        False       False   \n",
       "1                            False        False       False   \n",
       "2                            False        False       False   \n",
       "3                             True        False       False   \n",
       "4                             True        False       False   \n",
       "...                            ...          ...         ...   \n",
       "38541                        False        False       False   \n",
       "38542                        False        False       False   \n",
       "38543                        False        False       False   \n",
       "38544                        False        False       False   \n",
       "38545                        False        False       False   \n",
       "\n",
       "       Activity Type Code  Price Category Code  Terminal  Boarding Area  \\\n",
       "0                   False                False     False          False   \n",
       "1                   False                False     False          False   \n",
       "2                   False                False     False          False   \n",
       "3                   False                False     False          False   \n",
       "4                   False                False     False          False   \n",
       "...                   ...                  ...       ...            ...   \n",
       "38541               False                False     False          False   \n",
       "38542               False                False     False          False   \n",
       "38543               False                False     False          False   \n",
       "38544               False                False     False          False   \n",
       "38545               False                False     False          False   \n",
       "\n",
       "       Passenger Count  data_as_of  data_loaded_at  \n",
       "0                False       False           False  \n",
       "1                False       False           False  \n",
       "2                False       False           False  \n",
       "3                False       False           False  \n",
       "4                False       False           False  \n",
       "...                ...         ...             ...  \n",
       "38541            False       False           False  \n",
       "38542            False       False           False  \n",
       "38543            False       False           False  \n",
       "38544            False       False           False  \n",
       "38545            False       False           False  \n",
       "\n",
       "[38546 rows x 15 columns]>"
      ]
     },
     "execution_count": 7,
     "metadata": {},
     "output_type": "execute_result"
    }
   ],
   "source": [
    "df.isnull().sum"
   ]
  },
  {
   "cell_type": "code",
   "execution_count": 8,
   "id": "e164f22c-17f7-4584-898d-ad0431f53b50",
   "metadata": {},
   "outputs": [
    {
     "data": {
      "text/plain": [
       "Activity Period                0\n",
       "Activity Period Start Date     0\n",
       "Operating Airline              0\n",
       "Operating Airline IATA Code    0\n",
       "Published Airline              0\n",
       "Published Airline IATA Code    0\n",
       "GEO Summary                    0\n",
       "GEO Region                     0\n",
       "Activity Type Code             0\n",
       "Price Category Code            0\n",
       "Terminal                       0\n",
       "Boarding Area                  0\n",
       "Passenger Count                0\n",
       "data_as_of                     0\n",
       "data_loaded_at                 0\n",
       "dtype: int64"
      ]
     },
     "execution_count": 8,
     "metadata": {},
     "output_type": "execute_result"
    }
   ],
   "source": [
    "df = df.dropna()\n",
    "df.isnull().sum()"
   ]
  },
  {
   "cell_type": "markdown",
   "id": "01a99c15-be90-467f-b924-1cf9256ab087",
   "metadata": {},
   "source": [
    "# Process/Agriggate"
   ]
  },
  {
   "cell_type": "code",
   "execution_count": 10,
   "id": "14fcb776-2ad9-4c56-ae4d-2a595d7368b2",
   "metadata": {},
   "outputs": [
    {
     "data": {
      "text/plain": [
       "GEO Region\n",
       "Asia                   8306\n",
       "Australia / Oceania    1983\n",
       "Canada                 3618\n",
       "Central America         947\n",
       "Europe                 6293\n",
       "Name: Passenger Count, dtype: int64"
      ]
     },
     "execution_count": 10,
     "metadata": {},
     "output_type": "execute_result"
    }
   ],
   "source": [
    "Region_Passanger=df.groupby('GEO Region')['Passenger Count'].count() \n",
    "Region_Passanger.head()"
   ]
  },
  {
   "cell_type": "markdown",
   "id": "a8ccf5ce-1c91-43f5-92e3-8be64f858566",
   "metadata": {},
   "source": [
    "This shows how many passangers from each region have visitied San Fransisco Airports. From the data we can see the Asia has the most with Euope being second and the Region with the least amount of people visisitng by air is Central America"
   ]
  },
  {
   "cell_type": "markdown",
   "id": "1406e71d-f5c0-4051-b47d-b23f789384c9",
   "metadata": {},
   "source": [
    "# AI setup"
   ]
  },
  {
   "cell_type": "code",
   "execution_count": 16,
   "id": "e8a19ee5-7dd8-44ed-a8ec-b4db57bcb943",
   "metadata": {},
   "outputs": [],
   "source": [
    "import boto3\n",
    "from botocore.exceptions import ClientError\n",
    "import json\n",
    "\n",
    "def get_secret(secret_name):\n",
    "    region_name = \"us-east-1\"\n",
    "\n",
    "    # Create a Secrets Manager client\n",
    "    session = boto3.session.Session()\n",
    "    client = session.client(\n",
    "        service_name='secretsmanager',\n",
    "        region_name=region_name\n",
    "    )\n",
    "\n",
    "    try:\n",
    "        get_secret_value_response = client.get_secret_value(\n",
    "            SecretId=secret_name\n",
    "        )\n",
    "    except ClientError as e:\n",
    "        raise e\n",
    "\n",
    "    secret = get_secret_value_response['SecretString']\n",
    "    \n",
    "    return json.loads(secret)"
   ]
  },
  {
   "cell_type": "code",
   "execution_count": 21,
   "id": "a0b4863f-4dd3-4ce0-aebd-ea91b18f28aa",
   "metadata": {},
   "outputs": [
    {
     "name": "stdout",
     "output_type": "stream",
     "text": [
      "Requirement already satisfied: pip in /home/ec2-user/anaconda3/envs/python3/lib/python3.10/site-packages (25.2)\n",
      "Requirement already satisfied: setuptools in /home/ec2-user/anaconda3/envs/python3/lib/python3.10/site-packages (80.9.0)\n",
      "Requirement already satisfied: wheel in /home/ec2-user/anaconda3/envs/python3/lib/python3.10/site-packages (0.45.1)\n",
      "Note: you may need to restart the kernel to use updated packages.\n"
     ]
    }
   ],
   "source": [
    "pip install -U pip setuptools wheel"
   ]
  },
  {
   "cell_type": "code",
   "execution_count": 22,
   "id": "67d87d8b-0842-4f53-acb0-303d178047db",
   "metadata": {},
   "outputs": [
    {
     "name": "stdout",
     "output_type": "stream",
     "text": [
      "Collecting tiktoken>=0.7.0\n",
      "  Downloading tiktoken-0.11.0-cp310-cp310-manylinux_2_17_x86_64.manylinux2014_x86_64.whl.metadata (6.7 kB)\n",
      "Requirement already satisfied: regex>=2022.1.18 in /home/ec2-user/anaconda3/envs/python3/lib/python3.10/site-packages (from tiktoken>=0.7.0) (2025.9.18)\n",
      "Requirement already satisfied: requests>=2.26.0 in /home/ec2-user/anaconda3/envs/python3/lib/python3.10/site-packages (from tiktoken>=0.7.0) (2.32.5)\n",
      "Requirement already satisfied: charset_normalizer<4,>=2 in /home/ec2-user/anaconda3/envs/python3/lib/python3.10/site-packages (from requests>=2.26.0->tiktoken>=0.7.0) (3.4.3)\n",
      "Requirement already satisfied: idna<4,>=2.5 in /home/ec2-user/anaconda3/envs/python3/lib/python3.10/site-packages (from requests>=2.26.0->tiktoken>=0.7.0) (3.10)\n",
      "Requirement already satisfied: urllib3<3,>=1.21.1 in /home/ec2-user/anaconda3/envs/python3/lib/python3.10/site-packages (from requests>=2.26.0->tiktoken>=0.7.0) (2.5.0)\n",
      "Requirement already satisfied: certifi>=2017.4.17 in /home/ec2-user/anaconda3/envs/python3/lib/python3.10/site-packages (from requests>=2.26.0->tiktoken>=0.7.0) (2025.8.3)\n",
      "Downloading tiktoken-0.11.0-cp310-cp310-manylinux_2_17_x86_64.manylinux2014_x86_64.whl (1.2 MB)\n",
      "\u001b[2K   \u001b[90m━━━━━━━━━━━━━━━━━━━━━━━━━━━━━━━━━━━━━━━━\u001b[0m \u001b[32m1.2/1.2 MB\u001b[0m \u001b[31m60.5 MB/s\u001b[0m  \u001b[33m0:00:00\u001b[0m\n",
      "\u001b[?25hInstalling collected packages: tiktoken\n",
      "Successfully installed tiktoken-0.11.0\n",
      "Note: you may need to restart the kernel to use updated packages.\n"
     ]
    }
   ],
   "source": [
    "pip install --only-binary=:all: \"tiktoken>=0.7.0\""
   ]
  },
  {
   "cell_type": "code",
   "execution_count": null,
   "id": "fafa9616-8298-4fe5-ae14-470f37500438",
   "metadata": {},
   "outputs": [],
   "source": [
    "pip install \"jupyter-ai-magics[all]\" -q"
   ]
  },
  {
   "cell_type": "code",
   "execution_count": 18,
   "id": "d35ea33b-b04d-4d6a-bd66-0af61132da19",
   "metadata": {},
   "outputs": [],
   "source": [
    "import warnings\n",
    "warnings.simplefilter('ignore')"
   ]
  },
  {
   "cell_type": "code",
   "execution_count": 19,
   "id": "2e32d354-d7a8-4402-8bff-7bc217cacaf9",
   "metadata": {},
   "outputs": [],
   "source": [
    "import os\n",
    "os.environ[\"OPENAI_API_KEY\"] = get_secret('openai')['api_key']"
   ]
  },
  {
   "cell_type": "code",
   "execution_count": 20,
   "id": "5351366e-b6be-438a-aa9a-bae7166b61ff",
   "metadata": {},
   "outputs": [
    {
     "ename": "ModuleNotFoundError",
     "evalue": "No module named 'jupyter_ai_magics'",
     "output_type": "error",
     "traceback": [
      "\u001b[0;31m---------------------------------------------------------------------------\u001b[0m",
      "\u001b[0;31mModuleNotFoundError\u001b[0m                       Traceback (most recent call last)",
      "Cell \u001b[0;32mIn[20], line 1\u001b[0m\n\u001b[0;32m----> 1\u001b[0m \u001b[43mget_ipython\u001b[49m\u001b[43m(\u001b[49m\u001b[43m)\u001b[49m\u001b[38;5;241;43m.\u001b[39;49m\u001b[43mrun_line_magic\u001b[49m\u001b[43m(\u001b[49m\u001b[38;5;124;43m'\u001b[39;49m\u001b[38;5;124;43mload_ext\u001b[39;49m\u001b[38;5;124;43m'\u001b[39;49m\u001b[43m,\u001b[49m\u001b[43m \u001b[49m\u001b[38;5;124;43m'\u001b[39;49m\u001b[38;5;124;43mjupyter_ai_magics\u001b[39;49m\u001b[38;5;124;43m'\u001b[39;49m\u001b[43m)\u001b[49m\n",
      "File \u001b[0;32m~/anaconda3/envs/python3/lib/python3.10/site-packages/IPython/core/interactiveshell.py:2482\u001b[0m, in \u001b[0;36mInteractiveShell.run_line_magic\u001b[0;34m(self, magic_name, line, _stack_depth)\u001b[0m\n\u001b[1;32m   2480\u001b[0m     kwargs[\u001b[38;5;124m'\u001b[39m\u001b[38;5;124mlocal_ns\u001b[39m\u001b[38;5;124m'\u001b[39m] \u001b[38;5;241m=\u001b[39m \u001b[38;5;28mself\u001b[39m\u001b[38;5;241m.\u001b[39mget_local_scope(stack_depth)\n\u001b[1;32m   2481\u001b[0m \u001b[38;5;28;01mwith\u001b[39;00m \u001b[38;5;28mself\u001b[39m\u001b[38;5;241m.\u001b[39mbuiltin_trap:\n\u001b[0;32m-> 2482\u001b[0m     result \u001b[38;5;241m=\u001b[39m \u001b[43mfn\u001b[49m\u001b[43m(\u001b[49m\u001b[38;5;241;43m*\u001b[39;49m\u001b[43margs\u001b[49m\u001b[43m,\u001b[49m\u001b[43m \u001b[49m\u001b[38;5;241;43m*\u001b[39;49m\u001b[38;5;241;43m*\u001b[39;49m\u001b[43mkwargs\u001b[49m\u001b[43m)\u001b[49m\n\u001b[1;32m   2484\u001b[0m \u001b[38;5;66;03m# The code below prevents the output from being displayed\u001b[39;00m\n\u001b[1;32m   2485\u001b[0m \u001b[38;5;66;03m# when using magics with decorator @output_can_be_silenced\u001b[39;00m\n\u001b[1;32m   2486\u001b[0m \u001b[38;5;66;03m# when the last Python token in the expression is a ';'.\u001b[39;00m\n\u001b[1;32m   2487\u001b[0m \u001b[38;5;28;01mif\u001b[39;00m \u001b[38;5;28mgetattr\u001b[39m(fn, magic\u001b[38;5;241m.\u001b[39mMAGIC_OUTPUT_CAN_BE_SILENCED, \u001b[38;5;28;01mFalse\u001b[39;00m):\n",
      "File \u001b[0;32m~/anaconda3/envs/python3/lib/python3.10/site-packages/IPython/core/magics/extension.py:33\u001b[0m, in \u001b[0;36mExtensionMagics.load_ext\u001b[0;34m(self, module_str)\u001b[0m\n\u001b[1;32m     31\u001b[0m \u001b[38;5;28;01mif\u001b[39;00m \u001b[38;5;129;01mnot\u001b[39;00m module_str:\n\u001b[1;32m     32\u001b[0m     \u001b[38;5;28;01mraise\u001b[39;00m UsageError(\u001b[38;5;124m'\u001b[39m\u001b[38;5;124mMissing module name.\u001b[39m\u001b[38;5;124m'\u001b[39m)\n\u001b[0;32m---> 33\u001b[0m res \u001b[38;5;241m=\u001b[39m \u001b[38;5;28;43mself\u001b[39;49m\u001b[38;5;241;43m.\u001b[39;49m\u001b[43mshell\u001b[49m\u001b[38;5;241;43m.\u001b[39;49m\u001b[43mextension_manager\u001b[49m\u001b[38;5;241;43m.\u001b[39;49m\u001b[43mload_extension\u001b[49m\u001b[43m(\u001b[49m\u001b[43mmodule_str\u001b[49m\u001b[43m)\u001b[49m\n\u001b[1;32m     35\u001b[0m \u001b[38;5;28;01mif\u001b[39;00m res \u001b[38;5;241m==\u001b[39m \u001b[38;5;124m'\u001b[39m\u001b[38;5;124malready loaded\u001b[39m\u001b[38;5;124m'\u001b[39m:\n\u001b[1;32m     36\u001b[0m     \u001b[38;5;28mprint\u001b[39m(\u001b[38;5;124m\"\u001b[39m\u001b[38;5;124mThe \u001b[39m\u001b[38;5;132;01m%s\u001b[39;00m\u001b[38;5;124m extension is already loaded. To reload it, use:\u001b[39m\u001b[38;5;124m\"\u001b[39m \u001b[38;5;241m%\u001b[39m module_str)\n",
      "File \u001b[0;32m~/anaconda3/envs/python3/lib/python3.10/site-packages/IPython/core/extensions.py:62\u001b[0m, in \u001b[0;36mExtensionManager.load_extension\u001b[0;34m(self, module_str)\u001b[0m\n\u001b[1;32m     55\u001b[0m \u001b[38;5;250m\u001b[39m\u001b[38;5;124;03m\"\"\"Load an IPython extension by its module name.\u001b[39;00m\n\u001b[1;32m     56\u001b[0m \n\u001b[1;32m     57\u001b[0m \u001b[38;5;124;03mReturns the string \"already loaded\" if the extension is already loaded,\u001b[39;00m\n\u001b[1;32m     58\u001b[0m \u001b[38;5;124;03m\"no load function\" if the module doesn't have a load_ipython_extension\u001b[39;00m\n\u001b[1;32m     59\u001b[0m \u001b[38;5;124;03mfunction, or None if it succeeded.\u001b[39;00m\n\u001b[1;32m     60\u001b[0m \u001b[38;5;124;03m\"\"\"\u001b[39;00m\n\u001b[1;32m     61\u001b[0m \u001b[38;5;28;01mtry\u001b[39;00m:\n\u001b[0;32m---> 62\u001b[0m     \u001b[38;5;28;01mreturn\u001b[39;00m \u001b[38;5;28;43mself\u001b[39;49m\u001b[38;5;241;43m.\u001b[39;49m\u001b[43m_load_extension\u001b[49m\u001b[43m(\u001b[49m\u001b[43mmodule_str\u001b[49m\u001b[43m)\u001b[49m\n\u001b[1;32m     63\u001b[0m \u001b[38;5;28;01mexcept\u001b[39;00m \u001b[38;5;167;01mModuleNotFoundError\u001b[39;00m:\n\u001b[1;32m     64\u001b[0m     \u001b[38;5;28;01mif\u001b[39;00m module_str \u001b[38;5;129;01min\u001b[39;00m BUILTINS_EXTS:\n",
      "File \u001b[0;32m~/anaconda3/envs/python3/lib/python3.10/site-packages/IPython/core/extensions.py:77\u001b[0m, in \u001b[0;36mExtensionManager._load_extension\u001b[0;34m(self, module_str)\u001b[0m\n\u001b[1;32m     75\u001b[0m \u001b[38;5;28;01mwith\u001b[39;00m \u001b[38;5;28mself\u001b[39m\u001b[38;5;241m.\u001b[39mshell\u001b[38;5;241m.\u001b[39mbuiltin_trap:\n\u001b[1;32m     76\u001b[0m     \u001b[38;5;28;01mif\u001b[39;00m module_str \u001b[38;5;129;01mnot\u001b[39;00m \u001b[38;5;129;01min\u001b[39;00m sys\u001b[38;5;241m.\u001b[39mmodules:\n\u001b[0;32m---> 77\u001b[0m         mod \u001b[38;5;241m=\u001b[39m \u001b[43mimport_module\u001b[49m\u001b[43m(\u001b[49m\u001b[43mmodule_str\u001b[49m\u001b[43m)\u001b[49m\n\u001b[1;32m     78\u001b[0m     mod \u001b[38;5;241m=\u001b[39m sys\u001b[38;5;241m.\u001b[39mmodules[module_str]\n\u001b[1;32m     79\u001b[0m     \u001b[38;5;28;01mif\u001b[39;00m \u001b[38;5;28mself\u001b[39m\u001b[38;5;241m.\u001b[39m_call_load_ipython_extension(mod):\n",
      "File \u001b[0;32m~/anaconda3/envs/python3/lib/python3.10/importlib/__init__.py:126\u001b[0m, in \u001b[0;36mimport_module\u001b[0;34m(name, package)\u001b[0m\n\u001b[1;32m    124\u001b[0m             \u001b[38;5;28;01mbreak\u001b[39;00m\n\u001b[1;32m    125\u001b[0m         level \u001b[38;5;241m+\u001b[39m\u001b[38;5;241m=\u001b[39m \u001b[38;5;241m1\u001b[39m\n\u001b[0;32m--> 126\u001b[0m \u001b[38;5;28;01mreturn\u001b[39;00m \u001b[43m_bootstrap\u001b[49m\u001b[38;5;241;43m.\u001b[39;49m\u001b[43m_gcd_import\u001b[49m\u001b[43m(\u001b[49m\u001b[43mname\u001b[49m\u001b[43m[\u001b[49m\u001b[43mlevel\u001b[49m\u001b[43m:\u001b[49m\u001b[43m]\u001b[49m\u001b[43m,\u001b[49m\u001b[43m \u001b[49m\u001b[43mpackage\u001b[49m\u001b[43m,\u001b[49m\u001b[43m \u001b[49m\u001b[43mlevel\u001b[49m\u001b[43m)\u001b[49m\n",
      "File \u001b[0;32m<frozen importlib._bootstrap>:1050\u001b[0m, in \u001b[0;36m_gcd_import\u001b[0;34m(name, package, level)\u001b[0m\n",
      "File \u001b[0;32m<frozen importlib._bootstrap>:1027\u001b[0m, in \u001b[0;36m_find_and_load\u001b[0;34m(name, import_)\u001b[0m\n",
      "File \u001b[0;32m<frozen importlib._bootstrap>:1004\u001b[0m, in \u001b[0;36m_find_and_load_unlocked\u001b[0;34m(name, import_)\u001b[0m\n",
      "\u001b[0;31mModuleNotFoundError\u001b[0m: No module named 'jupyter_ai_magics'"
     ]
    }
   ],
   "source": [
    "%load_ext jupyter_ai_magics"
   ]
  },
  {
   "cell_type": "code",
   "execution_count": null,
   "id": "485c51e8-bfaf-4769-91c1-68e091e52b36",
   "metadata": {},
   "outputs": [],
   "source": [
    "%%ai gpt4 -f code\n",
    "Write a vidualization that shows the change in time of passangers from Asia"
   ]
  },
  {
   "cell_type": "code",
   "execution_count": null,
   "id": "2ded2080-a7b3-49db-969f-6faa836d8516",
   "metadata": {},
   "outputs": [],
   "source": []
  }
 ],
 "metadata": {
  "kernelspec": {
   "display_name": "conda_python3",
   "language": "python",
   "name": "conda_python3"
  },
  "language_info": {
   "codemirror_mode": {
    "name": "ipython",
    "version": 3
   },
   "file_extension": ".py",
   "mimetype": "text/x-python",
   "name": "python",
   "nbconvert_exporter": "python",
   "pygments_lexer": "ipython3",
   "version": "3.10.18"
  }
 },
 "nbformat": 4,
 "nbformat_minor": 5
}
