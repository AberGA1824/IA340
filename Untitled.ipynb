{
 "cells": [
  {
   "cell_type": "code",
   "execution_count": null,
   "id": "c1842e34-b28f-4607-81ec-904b4919e5c9",
   "metadata": {},
   "outputs": [],
   "source": []
  }
 ],
 "metadata": {
  "kernelspec": {
   "display_name": "",
   "name": ""
  },
  "language_info": {
   "name": ""
  }
 },
 "nbformat": 4,
 "nbformat_minor": 5
}
